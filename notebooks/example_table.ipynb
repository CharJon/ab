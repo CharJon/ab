{
 "cells": [
  {
   "cell_type": "code",
   "execution_count": 2,
   "outputs": [
    {
     "data": {
      "text/plain": "     Unnamed: 0 instance solver       times\n0             0       i1     s1   83.864367\n1             1       i2     s1  127.937324\n2             2       i3     s1  128.059466\n3             3       i4     s1   75.235571\n4             4       i5     s1   74.800778\n..          ...      ...    ...         ...\n295         295      i96     s3   87.726769\n296         296      i97     s3  256.035286\n297         297      i98     s3  221.511344\n298         298      i99     s3  215.347677\n299         299     i100     s3  286.001408\n\n[300 rows x 4 columns]",
      "text/html": "<div>\n<style scoped>\n    .dataframe tbody tr th:only-of-type {\n        vertical-align: middle;\n    }\n\n    .dataframe tbody tr th {\n        vertical-align: top;\n    }\n\n    .dataframe thead th {\n        text-align: right;\n    }\n</style>\n<table border=\"1\" class=\"dataframe\">\n  <thead>\n    <tr style=\"text-align: right;\">\n      <th></th>\n      <th>Unnamed: 0</th>\n      <th>instance</th>\n      <th>solver</th>\n      <th>times</th>\n    </tr>\n  </thead>\n  <tbody>\n    <tr>\n      <th>0</th>\n      <td>0</td>\n      <td>i1</td>\n      <td>s1</td>\n      <td>83.864367</td>\n    </tr>\n    <tr>\n      <th>1</th>\n      <td>1</td>\n      <td>i2</td>\n      <td>s1</td>\n      <td>127.937324</td>\n    </tr>\n    <tr>\n      <th>2</th>\n      <td>2</td>\n      <td>i3</td>\n      <td>s1</td>\n      <td>128.059466</td>\n    </tr>\n    <tr>\n      <th>3</th>\n      <td>3</td>\n      <td>i4</td>\n      <td>s1</td>\n      <td>75.235571</td>\n    </tr>\n    <tr>\n      <th>4</th>\n      <td>4</td>\n      <td>i5</td>\n      <td>s1</td>\n      <td>74.800778</td>\n    </tr>\n    <tr>\n      <th>...</th>\n      <td>...</td>\n      <td>...</td>\n      <td>...</td>\n      <td>...</td>\n    </tr>\n    <tr>\n      <th>295</th>\n      <td>295</td>\n      <td>i96</td>\n      <td>s3</td>\n      <td>87.726769</td>\n    </tr>\n    <tr>\n      <th>296</th>\n      <td>296</td>\n      <td>i97</td>\n      <td>s3</td>\n      <td>256.035286</td>\n    </tr>\n    <tr>\n      <th>297</th>\n      <td>297</td>\n      <td>i98</td>\n      <td>s3</td>\n      <td>221.511344</td>\n    </tr>\n    <tr>\n      <th>298</th>\n      <td>298</td>\n      <td>i99</td>\n      <td>s3</td>\n      <td>215.347677</td>\n    </tr>\n    <tr>\n      <th>299</th>\n      <td>299</td>\n      <td>i100</td>\n      <td>s3</td>\n      <td>286.001408</td>\n    </tr>\n  </tbody>\n</table>\n<p>300 rows × 4 columns</p>\n</div>"
     },
     "execution_count": 2,
     "metadata": {},
     "output_type": "execute_result"
    }
   ],
   "source": [
    "import pandas as pd\n",
    "import seaborn as sns\n",
    "\n",
    "d = pd.read_csv(\"../data/small_random.csv\")\n",
    "d"
   ],
   "metadata": {
    "collapsed": false,
    "pycharm": {
     "name": "#%%\n"
    }
   }
  },
  {
   "cell_type": "code",
   "execution_count": 4,
   "metadata": {
    "collapsed": true
   },
   "outputs": [
    {
     "data": {
      "text/plain": "solver            s1          s2          s3\ninstance                                    \ni1         83.864367   35.626683   89.900278\ni10        77.457292   58.525248  128.728057\ni100      108.566344   70.170530  286.001408\ni11        75.651904   69.107894  198.270020\ni12        94.410663  141.597841   92.427285\n...              ...         ...         ...\ni95        41.651450   24.450793  100.256623\ni96        46.834227   84.199715   87.726769\ni97        82.305420   48.647493  256.035286\ni98        87.062881  208.473377  221.511344\ni99       125.593632   15.747353  215.347677\n\n[100 rows x 3 columns]",
      "text/html": "<div>\n<style scoped>\n    .dataframe tbody tr th:only-of-type {\n        vertical-align: middle;\n    }\n\n    .dataframe tbody tr th {\n        vertical-align: top;\n    }\n\n    .dataframe thead th {\n        text-align: right;\n    }\n</style>\n<table border=\"1\" class=\"dataframe\">\n  <thead>\n    <tr style=\"text-align: right;\">\n      <th>solver</th>\n      <th>s1</th>\n      <th>s2</th>\n      <th>s3</th>\n    </tr>\n    <tr>\n      <th>instance</th>\n      <th></th>\n      <th></th>\n      <th></th>\n    </tr>\n  </thead>\n  <tbody>\n    <tr>\n      <th>i1</th>\n      <td>83.864367</td>\n      <td>35.626683</td>\n      <td>89.900278</td>\n    </tr>\n    <tr>\n      <th>i10</th>\n      <td>77.457292</td>\n      <td>58.525248</td>\n      <td>128.728057</td>\n    </tr>\n    <tr>\n      <th>i100</th>\n      <td>108.566344</td>\n      <td>70.170530</td>\n      <td>286.001408</td>\n    </tr>\n    <tr>\n      <th>i11</th>\n      <td>75.651904</td>\n      <td>69.107894</td>\n      <td>198.270020</td>\n    </tr>\n    <tr>\n      <th>i12</th>\n      <td>94.410663</td>\n      <td>141.597841</td>\n      <td>92.427285</td>\n    </tr>\n    <tr>\n      <th>...</th>\n      <td>...</td>\n      <td>...</td>\n      <td>...</td>\n    </tr>\n    <tr>\n      <th>i95</th>\n      <td>41.651450</td>\n      <td>24.450793</td>\n      <td>100.256623</td>\n    </tr>\n    <tr>\n      <th>i96</th>\n      <td>46.834227</td>\n      <td>84.199715</td>\n      <td>87.726769</td>\n    </tr>\n    <tr>\n      <th>i97</th>\n      <td>82.305420</td>\n      <td>48.647493</td>\n      <td>256.035286</td>\n    </tr>\n    <tr>\n      <th>i98</th>\n      <td>87.062881</td>\n      <td>208.473377</td>\n      <td>221.511344</td>\n    </tr>\n    <tr>\n      <th>i99</th>\n      <td>125.593632</td>\n      <td>15.747353</td>\n      <td>215.347677</td>\n    </tr>\n  </tbody>\n</table>\n<p>100 rows × 3 columns</p>\n</div>"
     },
     "execution_count": 4,
     "metadata": {},
     "output_type": "execute_result"
    }
   ],
   "source": [
    "import abs.statistics as stats\n",
    "\n",
    "pivot_table = stats.get_pivot(d, index=\"instance\", columns=\"solver\", values=\"times\")\n",
    "pivot_table"
   ]
  },
  {
   "cell_type": "code",
   "execution_count": 5,
   "outputs": [
    {
     "data": {
      "text/plain": "                 sum        mean      median         std         max  \\\nsolver                                                                 \ns1       8359.308757   83.593088   81.674413   26.347568  129.593254   \ns2      10955.278185  109.552782   73.062876  104.303517  529.890146   \ns3      18812.024559  188.120246  147.795049  138.635493  681.715499   \n\n               sgm  wins  \nsolver                    \ns1       79.811799    35  \ns2       75.483968    49  \ns3      145.145583    16  ",
      "text/html": "<div>\n<style scoped>\n    .dataframe tbody tr th:only-of-type {\n        vertical-align: middle;\n    }\n\n    .dataframe tbody tr th {\n        vertical-align: top;\n    }\n\n    .dataframe thead th {\n        text-align: right;\n    }\n</style>\n<table border=\"1\" class=\"dataframe\">\n  <thead>\n    <tr style=\"text-align: right;\">\n      <th></th>\n      <th>sum</th>\n      <th>mean</th>\n      <th>median</th>\n      <th>std</th>\n      <th>max</th>\n      <th>sgm</th>\n      <th>wins</th>\n    </tr>\n    <tr>\n      <th>solver</th>\n      <th></th>\n      <th></th>\n      <th></th>\n      <th></th>\n      <th></th>\n      <th></th>\n      <th></th>\n    </tr>\n  </thead>\n  <tbody>\n    <tr>\n      <th>s1</th>\n      <td>8359.308757</td>\n      <td>83.593088</td>\n      <td>81.674413</td>\n      <td>26.347568</td>\n      <td>129.593254</td>\n      <td>79.811799</td>\n      <td>35</td>\n    </tr>\n    <tr>\n      <th>s2</th>\n      <td>10955.278185</td>\n      <td>109.552782</td>\n      <td>73.062876</td>\n      <td>104.303517</td>\n      <td>529.890146</td>\n      <td>75.483968</td>\n      <td>49</td>\n    </tr>\n    <tr>\n      <th>s3</th>\n      <td>18812.024559</td>\n      <td>188.120246</td>\n      <td>147.795049</td>\n      <td>138.635493</td>\n      <td>681.715499</td>\n      <td>145.145583</td>\n      <td>16</td>\n    </tr>\n  </tbody>\n</table>\n</div>"
     },
     "execution_count": 5,
     "metadata": {},
     "output_type": "execute_result"
    }
   ],
   "source": [
    "stats.stats(pivot_table)"
   ],
   "metadata": {
    "collapsed": false,
    "pycharm": {
     "name": "#%%\n"
    }
   }
  }
 ],
 "metadata": {
  "kernelspec": {
   "display_name": "Python 3",
   "language": "python",
   "name": "python3"
  },
  "language_info": {
   "codemirror_mode": {
    "name": "ipython",
    "version": 2
   },
   "file_extension": ".py",
   "mimetype": "text/x-python",
   "name": "python",
   "nbconvert_exporter": "python",
   "pygments_lexer": "ipython2",
   "version": "2.7.6"
  }
 },
 "nbformat": 4,
 "nbformat_minor": 0
}