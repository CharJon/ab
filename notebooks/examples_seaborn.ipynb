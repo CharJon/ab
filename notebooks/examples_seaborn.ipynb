{
 "cells": [
  {
   "cell_type": "code",
   "execution_count": 26,
   "metadata": {
    "collapsed": true
   },
   "outputs": [
    {
     "data": {
      "text/plain": "     Unnamed: 0 instance solver       times\n0             0       i1     s1   83.864367\n1             1       i2     s1  127.937324\n2             2       i3     s1  128.059466\n3             3       i4     s1   75.235571\n4             4       i5     s1   74.800778\n..          ...      ...    ...         ...\n295         295      i96     s3   87.726769\n296         296      i97     s3  256.035286\n297         297      i98     s3  221.511344\n298         298      i99     s3  215.347677\n299         299     i100     s3  286.001408\n\n[300 rows x 4 columns]",
      "text/html": "<div>\n<style scoped>\n    .dataframe tbody tr th:only-of-type {\n        vertical-align: middle;\n    }\n\n    .dataframe tbody tr th {\n        vertical-align: top;\n    }\n\n    .dataframe thead th {\n        text-align: right;\n    }\n</style>\n<table border=\"1\" class=\"dataframe\">\n  <thead>\n    <tr style=\"text-align: right;\">\n      <th></th>\n      <th>Unnamed: 0</th>\n      <th>instance</th>\n      <th>solver</th>\n      <th>times</th>\n    </tr>\n  </thead>\n  <tbody>\n    <tr>\n      <th>0</th>\n      <td>0</td>\n      <td>i1</td>\n      <td>s1</td>\n      <td>83.864367</td>\n    </tr>\n    <tr>\n      <th>1</th>\n      <td>1</td>\n      <td>i2</td>\n      <td>s1</td>\n      <td>127.937324</td>\n    </tr>\n    <tr>\n      <th>2</th>\n      <td>2</td>\n      <td>i3</td>\n      <td>s1</td>\n      <td>128.059466</td>\n    </tr>\n    <tr>\n      <th>3</th>\n      <td>3</td>\n      <td>i4</td>\n      <td>s1</td>\n      <td>75.235571</td>\n    </tr>\n    <tr>\n      <th>4</th>\n      <td>4</td>\n      <td>i5</td>\n      <td>s1</td>\n      <td>74.800778</td>\n    </tr>\n    <tr>\n      <th>...</th>\n      <td>...</td>\n      <td>...</td>\n      <td>...</td>\n      <td>...</td>\n    </tr>\n    <tr>\n      <th>295</th>\n      <td>295</td>\n      <td>i96</td>\n      <td>s3</td>\n      <td>87.726769</td>\n    </tr>\n    <tr>\n      <th>296</th>\n      <td>296</td>\n      <td>i97</td>\n      <td>s3</td>\n      <td>256.035286</td>\n    </tr>\n    <tr>\n      <th>297</th>\n      <td>297</td>\n      <td>i98</td>\n      <td>s3</td>\n      <td>221.511344</td>\n    </tr>\n    <tr>\n      <th>298</th>\n      <td>298</td>\n      <td>i99</td>\n      <td>s3</td>\n      <td>215.347677</td>\n    </tr>\n    <tr>\n      <th>299</th>\n      <td>299</td>\n      <td>i100</td>\n      <td>s3</td>\n      <td>286.001408</td>\n    </tr>\n  </tbody>\n</table>\n<p>300 rows × 4 columns</p>\n</div>"
     },
     "execution_count": 26,
     "metadata": {},
     "output_type": "execute_result"
    }
   ],
   "source": [
    "import pandas as pd\n",
    "import seaborn as sns\n",
    "\n",
    "d = pd.read_csv(\"../data/small_random.csv\")\n",
    "d"
   ]
  },
  {
   "cell_type": "code",
   "execution_count": 27,
   "outputs": [
    {
     "data": {
      "text/plain": "<AxesSubplot:xlabel='solver', ylabel='times'>"
     },
     "execution_count": 27,
     "metadata": {},
     "output_type": "execute_result"
    },
    {
     "data": {
      "text/plain": "<Figure size 432x288 with 1 Axes>",
      "image/png": "[encoded data removed]"
     },
     "metadata": {
      "needs_background": "light"
     },
     "output_type": "display_data"
    }
   ],
   "source": [
    "sns.boxplot(data=d, x='solver', y=\"times\")"
   ],
   "metadata": {
    "collapsed": false,
    "pycharm": {
     "name": "#%%\n"
    }
   }
  }
 ],
 "metadata": {
  "kernelspec": {
   "display_name": "Python 3",
   "language": "python",
   "name": "python3"
  },
  "language_info": {
   "codemirror_mode": {
    "name": "ipython",
    "version": 2
   },
   "file_extension": ".py",
   "mimetype": "text/x-python",
   "name": "python",
   "nbconvert_exporter": "python",
   "pygments_lexer": "ipython2",
   "version": "2.7.6"
  }
 },
 "nbformat": 4,
 "nbformat_minor": 0
}